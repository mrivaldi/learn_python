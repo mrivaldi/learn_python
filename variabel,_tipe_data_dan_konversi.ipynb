{
  "nbformat": 4,
  "nbformat_minor": 0,
  "metadata": {
    "colab": {
      "name": "variabel, tipe data dan konversi.ipynb",
      "provenance": [],
      "collapsed_sections": [],
      "authorship_tag": "ABX9TyOAib+BHdJNFNK6Nax4i2qa",
      "include_colab_link": true
    },
    "kernelspec": {
      "name": "python3",
      "display_name": "Python 3"
    }
  },
  "cells": [
    {
      "cell_type": "markdown",
      "metadata": {
        "id": "view-in-github",
        "colab_type": "text"
      },
      "source": [
        "<a href=\"https://colab.research.google.com/github/mrivaldi/mrivaldi/blob/main/variabel%2C_tipe_data_dan_konversi.ipynb\" target=\"_parent\"><img src=\"https://colab.research.google.com/assets/colab-badge.svg\" alt=\"Open In Colab\"/></a>"
      ]
    },
    {
      "cell_type": "code",
      "metadata": {
        "id": "XcY6v4lksB4X"
      },
      "source": [
        "#membuat variabel\n",
        "var1=\"siapa\"  #sring(str)\n",
        "var2=34       #integer(int)\n",
        "var3=33.67    #float(float)\n",
        "var4=False    #boolean(bool)\n",
        "var5=1j + 1   #complex(complex)"
      ],
      "execution_count": 89,
      "outputs": []
    },
    {
      "cell_type": "code",
      "metadata": {
        "id": "MjN5ioZlti54",
        "outputId": "6bdadcc2-bf90-45b0-d13b-ba8656c63926",
        "colab": {
          "base_uri": "https://localhost:8080/",
          "height": 107
        }
      },
      "source": [
        "#menampilkan variabel\n",
        "print(var1)\n",
        "print(var2)\n",
        "print(var3)\n",
        "print(var4)\n",
        "print(var5)"
      ],
      "execution_count": 90,
      "outputs": [
        {
          "output_type": "stream",
          "text": [
            "siapa\n",
            "34\n",
            "33.67\n",
            "False\n",
            "(1+1j)\n"
          ],
          "name": "stdout"
        }
      ]
    },
    {
      "cell_type": "code",
      "metadata": {
        "id": "YfGLuI-OLukM",
        "outputId": "a9ac715b-1df4-4b49-b652-bdb96ad042e7",
        "colab": {
          "base_uri": "https://localhost:8080/",
          "height": 35
        }
      },
      "source": [
        "#menampilkan tipe data tanpa fungsi print\n",
        "type(var1)\n",
        "type(var2)\n",
        "type(var3)\n",
        "type(var4)\n",
        "type(var5)          #hanya ditampilkan dibarisan terakhir"
      ],
      "execution_count": 91,
      "outputs": [
        {
          "output_type": "execute_result",
          "data": {
            "text/plain": [
              "complex"
            ]
          },
          "metadata": {
            "tags": []
          },
          "execution_count": 91
        }
      ]
    },
    {
      "cell_type": "code",
      "metadata": {
        "id": "jT_Dpel8trxq",
        "outputId": "1bc1a3d1-4972-4a22-c522-2a117fa56a4d",
        "colab": {
          "base_uri": "https://localhost:8080/",
          "height": 107
        }
      },
      "source": [
        "#menampilkan tipe data menggunakan fungsi print\n",
        "print(var1, \"bertipe data:\", type(var1))\n",
        "print(var2, type(var2))\n",
        "print(\"{} bertipe data: {}\".format(var3, type(var3)))\n",
        "print(\"%s bertipe data: %s\"%(var4, type(var4)))\n",
        "print(type(var5))"
      ],
      "execution_count": 92,
      "outputs": [
        {
          "output_type": "stream",
          "text": [
            "siapa bertipe data: <class 'str'>\n",
            "34 <class 'int'>\n",
            "33.67 bertipe data: <class 'float'>\n",
            "False bertipe data: <class 'bool'>\n",
            "<class 'complex'>\n"
          ],
          "name": "stdout"
        }
      ]
    },
    {
      "cell_type": "code",
      "metadata": {
        "id": "_5rFdqfKvQCO",
        "outputId": "bb44ad77-61fd-4d8e-96a2-3023b482fa91",
        "colab": {
          "base_uri": "https://localhost:8080/",
          "height": 161
        }
      },
      "source": [
        "#konversi tipe data\n",
        "print(int(var3))      #var3 ke int\n",
        "print(float(var2))    #var2 ke float\n",
        "print(bool(var2))     #var2 ke bool\n",
        "print(int(var4))      #var4 ke int\n",
        "print(float(var4))    #var4 ke float\n",
        "print(complex(var2))  #var2 ke complex\n",
        "print(complex(var3))  #var3 ke complex\n",
        "print(bool(var5))     #var5 ke bool"
      ],
      "execution_count": 93,
      "outputs": [
        {
          "output_type": "stream",
          "text": [
            "33\n",
            "34.0\n",
            "True\n",
            "0\n",
            "0.0\n",
            "(34+0j)\n",
            "(33.67+0j)\n",
            "True\n"
          ],
          "name": "stdout"
        }
      ]
    },
    {
      "cell_type": "code",
      "metadata": {
        "id": "yj9XJMCg0oka",
        "outputId": "2838ea8f-0d5e-4f4c-d3ab-abbfa851bc41",
        "colab": {
          "base_uri": "https://localhost:8080/",
          "height": 35
        }
      },
      "source": [
        "print(var5, \"bertipe data complex?\", isinstance(var5, int))   #isinstance untuk memastikan tipe data"
      ],
      "execution_count": 94,
      "outputs": [
        {
          "output_type": "stream",
          "text": [
            "(1+1j) bertipe data complex? False\n"
          ],
          "name": "stdout"
        }
      ]
    }
  ]
}